{
 "cells": [
  {
   "cell_type": "code",
   "execution_count": null,
   "metadata": {
    "collapsed": true,
    "pycharm": {
     "is_executing": true
    }
   },
   "outputs": [],
   "source": [
    "import matplotlib.pyplot as plt\n",
    "import numpy as np\n",
    "from skimage import filters, measure, exposure, feature, color\n",
    "from skimage.filters import threshold_local, threshold_otsu, rank, sobel, gaussian\n",
    "from skimage.feature import canny\n",
    "from skimage.segmentation import slic, slic_superpixels\n",
    "from skimage.measure import find_contours\n",
    "from skimage.exposure import equalize_adapthist\n",
    "from skimage.morphology import dilation, erosion, binary_erosion, binary_dilation\n",
    "import cv2"
   ]
  },
  {
   "cell_type": "code",
   "execution_count": 2,
   "outputs": [],
   "source": [
    "def mostrar(coins, image, ejes):\n",
    "    plt.subplot(211)\n",
    "    plt.imshow(coins, cmap=\"gray\")\n",
    "    plt.axis(ejes)\n",
    "\n",
    "    plt.subplot(212)\n",
    "    plt.imshow(image, cmap=\"gray\")\n",
    "    plt.axis(ejes)\n",
    "    plt.show()"
   ],
   "metadata": {
    "collapsed": false,
    "pycharm": {
     "name": "#%%\n",
     "is_executing": false
    }
   }
  },
  {
   "cell_type": "code",
   "execution_count": 3,
   "outputs": [],
   "source": [
    "coins = plt.imread('monedas.jpg')"
   ],
   "metadata": {
    "collapsed": false,
    "pycharm": {
     "name": "#%%\n",
     "is_executing": false
    }
   }
  },
  {
   "cell_type": "code",
   "execution_count": null,
   "outputs": [],
   "source": [
    "seg = slic(coins, n_segments=18)\n",
    "image = color.label2rgb(seg, coins, kind='avg')\n",
    "# image = equalize_adapthist(image)\n",
    "image = gaussian(image, sigma=10, multichannel=True)\n",
    "seg = slic(image, n_segments=13)\n",
    "image = color.label2rgb(seg, coins, kind='avg')\n",
    "\n",
    "mostrar(coins, image, \"on\")"
   ],
   "metadata": {
    "collapsed": false,
    "pycharm": {
     "name": "#%%\n",
     "is_executing": true
    }
   }
  },
  {
   "cell_type": "code",
   "execution_count": null,
   "outputs": [],
   "source": [
    "\n"
   ],
   "metadata": {
    "collapsed": false,
    "pycharm": {
     "name": "#%%\n"
    }
   }
  }
 ],
 "metadata": {
  "kernelspec": {
   "display_name": "Python 3",
   "language": "python",
   "name": "python3"
  },
  "language_info": {
   "codemirror_mode": {
    "name": "ipython",
    "version": 2
   },
   "file_extension": ".py",
   "mimetype": "text/x-python",
   "name": "python",
   "nbconvert_exporter": "python",
   "pygments_lexer": "ipython2",
   "version": "2.7.6"
  },
  "pycharm": {
   "stem_cell": {
    "cell_type": "raw",
    "source": [],
    "metadata": {
     "collapsed": false
    }
   }
  }
 },
 "nbformat": 4,
 "nbformat_minor": 0
}